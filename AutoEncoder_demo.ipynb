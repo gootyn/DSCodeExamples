{
 "cells": [
  {
   "cell_type": "code",
   "execution_count": 1,
   "metadata": {},
   "outputs": [
    {
     "name": "stderr",
     "output_type": "stream",
     "text": [
      "Using TensorFlow backend.\n"
     ]
    }
   ],
   "source": [
    "from keras.layers import Input, Dense\n",
    "from keras.models import Model\n"
   ]
  },
  {
   "cell_type": "code",
   "execution_count": 2,
   "metadata": {},
   "outputs": [
    {
     "name": "stdout",
     "output_type": "stream",
     "text": [
      "WARNING:tensorflow:From /Users/nagarajugooty/anaconda3/lib/python3.6/site-packages/keras/backend/tensorflow_backend.py:66: The name tf.get_default_graph is deprecated. Please use tf.compat.v1.get_default_graph instead.\n",
      "\n",
      "WARNING:tensorflow:From /Users/nagarajugooty/anaconda3/lib/python3.6/site-packages/keras/backend/tensorflow_backend.py:541: The name tf.placeholder is deprecated. Please use tf.compat.v1.placeholder instead.\n",
      "\n",
      "WARNING:tensorflow:From /Users/nagarajugooty/anaconda3/lib/python3.6/site-packages/keras/backend/tensorflow_backend.py:4432: The name tf.random_uniform is deprecated. Please use tf.random.uniform instead.\n",
      "\n"
     ]
    }
   ],
   "source": [
    "encoding_dim=64\n",
    "\n",
    "input_img=Input(shape=(784,))\n",
    "\n",
    "encoded=Dense(encoding_dim,activation='relu')(input_img)\n",
    "decoded=Dense(784,activation='sigmoid')(encoded)\n",
    "\n",
    "autoencoder=Model(input_img,decoded)"
   ]
  },
  {
   "cell_type": "code",
   "execution_count": 3,
   "metadata": {},
   "outputs": [],
   "source": [
    "encoder=Model(input_img,encoded)"
   ]
  },
  {
   "cell_type": "code",
   "execution_count": 4,
   "metadata": {},
   "outputs": [],
   "source": [
    "encoded_input=Input(shape=(encoding_dim,))\n",
    "\n",
    "decoder_layer=autoencoder.layers[-1]\n",
    "\n",
    "decoder=Model(encoded_input,decoder_layer(encoded_input))"
   ]
  },
  {
   "cell_type": "code",
   "execution_count": 5,
   "metadata": {},
   "outputs": [
    {
     "name": "stdout",
     "output_type": "stream",
     "text": [
      "WARNING:tensorflow:From /Users/nagarajugooty/anaconda3/lib/python3.6/site-packages/keras/optimizers.py:793: The name tf.train.Optimizer is deprecated. Please use tf.compat.v1.train.Optimizer instead.\n",
      "\n",
      "WARNING:tensorflow:From /Users/nagarajugooty/anaconda3/lib/python3.6/site-packages/keras/backend/tensorflow_backend.py:3657: The name tf.log is deprecated. Please use tf.math.log instead.\n",
      "\n",
      "WARNING:tensorflow:From /Users/nagarajugooty/anaconda3/lib/python3.6/site-packages/tensorflow/python/ops/nn_impl.py:180: add_dispatch_support.<locals>.wrapper (from tensorflow.python.ops.array_ops) is deprecated and will be removed in a future version.\n",
      "Instructions for updating:\n",
      "Use tf.where in 2.0, which has the same broadcast rule as np.where\n"
     ]
    }
   ],
   "source": [
    "autoencoder.compile(optimizer='adadelta',loss='binary_crossentropy')"
   ]
  },
  {
   "cell_type": "code",
   "execution_count": 6,
   "metadata": {},
   "outputs": [
    {
     "data": {
      "text/plain": [
       "(28, 28)"
      ]
     },
     "execution_count": 6,
     "metadata": {},
     "output_type": "execute_result"
    }
   ],
   "source": [
    "from keras.datasets import mnist\n",
    "import numpy as np\n",
    "(xtrain,_),(xtest,_)=mnist.load_data()\n",
    "xtrain.shape\n",
    "len(xtrain)\n",
    "xtrain.shape[1:]"
   ]
  },
  {
   "cell_type": "code",
   "execution_count": 7,
   "metadata": {},
   "outputs": [],
   "source": [
    "xtrain=xtrain.astype('float32')/255\n",
    "xtest=xtest.astype('float32')/255\n",
    "xtrain=xtrain.reshape(len(xtrain),np.prod(xtrain.shape[1:]))\n",
    "xtest=xtest.reshape(len(xtest),np.prod(xtest.shape[1:]))\n"
   ]
  },
  {
   "cell_type": "code",
   "execution_count": 8,
   "metadata": {},
   "outputs": [
    {
     "name": "stdout",
     "output_type": "stream",
     "text": [
      "WARNING:tensorflow:From /Users/nagarajugooty/anaconda3/lib/python3.6/site-packages/keras/backend/tensorflow_backend.py:1033: The name tf.assign_add is deprecated. Please use tf.compat.v1.assign_add instead.\n",
      "\n",
      "Train on 60000 samples, validate on 10000 samples\n",
      "Epoch 1/50\n",
      "60000/60000 [==============================] - 5s 79us/step - loss: 0.3415 - val_loss: 0.2677\n",
      "Epoch 2/50\n",
      "60000/60000 [==============================] - 4s 67us/step - loss: 0.2569 - val_loss: 0.2420\n",
      "Epoch 3/50\n",
      "60000/60000 [==============================] - 3s 51us/step - loss: 0.2303 - val_loss: 0.2170\n",
      "Epoch 4/50\n",
      "60000/60000 [==============================] - 3s 52us/step - loss: 0.2099 - val_loss: 0.2005\n",
      "Epoch 5/50\n",
      "60000/60000 [==============================] - 4s 70us/step - loss: 0.1960 - val_loss: 0.1887\n",
      "Epoch 6/50\n",
      "60000/60000 [==============================] - 4s 70us/step - loss: 0.1855 - val_loss: 0.1794\n",
      "Epoch 7/50\n",
      "60000/60000 [==============================] - 3s 52us/step - loss: 0.1772 - val_loss: 0.1720\n",
      "Epoch 8/50\n",
      "60000/60000 [==============================] - 3s 49us/step - loss: 0.1703 - val_loss: 0.1658\n",
      "Epoch 9/50\n",
      "60000/60000 [==============================] - 3s 53us/step - loss: 0.1645 - val_loss: 0.1603\n",
      "Epoch 10/50\n",
      "60000/60000 [==============================] - 3s 56us/step - loss: 0.1593 - val_loss: 0.1555\n",
      "Epoch 11/50\n",
      "60000/60000 [==============================] - 3s 55us/step - loss: 0.1545 - val_loss: 0.1510\n",
      "Epoch 12/50\n",
      "60000/60000 [==============================] - 3s 49us/step - loss: 0.1501 - val_loss: 0.1467\n",
      "Epoch 13/50\n",
      "60000/60000 [==============================] - 3s 49us/step - loss: 0.1460 - val_loss: 0.1427\n",
      "Epoch 14/50\n",
      "60000/60000 [==============================] - 3s 48us/step - loss: 0.1422 - val_loss: 0.1390\n",
      "Epoch 15/50\n",
      "60000/60000 [==============================] - 3s 49us/step - loss: 0.1387 - val_loss: 0.1357\n",
      "Epoch 16/50\n",
      "60000/60000 [==============================] - 3s 50us/step - loss: 0.1354 - val_loss: 0.1324\n",
      "Epoch 17/50\n",
      "60000/60000 [==============================] - 3s 48us/step - loss: 0.1324 - val_loss: 0.1295\n",
      "Epoch 18/50\n",
      "60000/60000 [==============================] - 3s 48us/step - loss: 0.1295 - val_loss: 0.1267\n",
      "Epoch 19/50\n",
      "60000/60000 [==============================] - 3s 54us/step - loss: 0.1268 - val_loss: 0.1241\n",
      "Epoch 20/50\n",
      "60000/60000 [==============================] - 4s 59us/step - loss: 0.1243 - val_loss: 0.1216\n",
      "Epoch 21/50\n",
      "60000/60000 [==============================] - 3s 58us/step - loss: 0.1219 - val_loss: 0.1193\n",
      "Epoch 22/50\n",
      "60000/60000 [==============================] - 3s 51us/step - loss: 0.1196 - val_loss: 0.1170\n",
      "Epoch 23/50\n",
      "60000/60000 [==============================] - 4s 67us/step - loss: 0.1175 - val_loss: 0.1149\n",
      "Epoch 24/50\n",
      "60000/60000 [==============================] - 4s 60us/step - loss: 0.1155 - val_loss: 0.1131\n",
      "Epoch 25/50\n",
      "60000/60000 [==============================] - 4s 74us/step - loss: 0.1136 - val_loss: 0.1112\n",
      "Epoch 26/50\n",
      "60000/60000 [==============================] - 4s 66us/step - loss: 0.1118 - val_loss: 0.1095\n",
      "Epoch 27/50\n",
      "60000/60000 [==============================] - 5s 87us/step - loss: 0.1102 - val_loss: 0.1079\n",
      "Epoch 28/50\n",
      "60000/60000 [==============================] - 4s 71us/step - loss: 0.1086 - val_loss: 0.1064\n",
      "Epoch 29/50\n",
      "60000/60000 [==============================] - 7s 110us/step - loss: 0.1072 - val_loss: 0.1051\n",
      "Epoch 30/50\n",
      "60000/60000 [==============================] - 6s 103us/step - loss: 0.1059 - val_loss: 0.1038\n",
      "Epoch 31/50\n",
      "60000/60000 [==============================] - 5s 84us/step - loss: 0.1046 - val_loss: 0.1026\n",
      "Epoch 32/50\n",
      "60000/60000 [==============================] - 5s 89us/step - loss: 0.1035 - val_loss: 0.1015\n",
      "Epoch 33/50\n",
      "60000/60000 [==============================] - 5s 83us/step - loss: 0.1024 - val_loss: 0.1005\n",
      "Epoch 34/50\n",
      "60000/60000 [==============================] - 5s 87us/step - loss: 0.1014 - val_loss: 0.0995\n",
      "Epoch 35/50\n",
      "60000/60000 [==============================] - 5s 84us/step - loss: 0.1004 - val_loss: 0.0986\n",
      "Epoch 36/50\n",
      "60000/60000 [==============================] - 5s 83us/step - loss: 0.0996 - val_loss: 0.0977\n",
      "Epoch 37/50\n",
      "60000/60000 [==============================] - 5s 84us/step - loss: 0.0987 - val_loss: 0.0969\n",
      "Epoch 38/50\n",
      "60000/60000 [==============================] - 6s 92us/step - loss: 0.0980 - val_loss: 0.0962\n",
      "Epoch 39/50\n",
      "60000/60000 [==============================] - 5s 89us/step - loss: 0.0972 - val_loss: 0.0955\n",
      "Epoch 40/50\n",
      "60000/60000 [==============================] - 6s 96us/step - loss: 0.0966 - val_loss: 0.0948\n",
      "Epoch 41/50\n",
      "60000/60000 [==============================] - 6s 102us/step - loss: 0.0959 - val_loss: 0.0942\n",
      "Epoch 42/50\n",
      "60000/60000 [==============================] - 5s 85us/step - loss: 0.0953 - val_loss: 0.0936\n",
      "Epoch 43/50\n",
      "60000/60000 [==============================] - 5s 76us/step - loss: 0.0947 - val_loss: 0.0931\n",
      "Epoch 44/50\n",
      "60000/60000 [==============================] - 5s 80us/step - loss: 0.0942 - val_loss: 0.0925\n",
      "Epoch 45/50\n",
      "60000/60000 [==============================] - 5s 86us/step - loss: 0.0937 - val_loss: 0.0921\n",
      "Epoch 46/50\n",
      "60000/60000 [==============================] - 5s 87us/step - loss: 0.0932 - val_loss: 0.0916\n",
      "Epoch 47/50\n",
      "60000/60000 [==============================] - 5s 85us/step - loss: 0.0927 - val_loss: 0.0911\n",
      "Epoch 48/50\n",
      "60000/60000 [==============================] - 5s 87us/step - loss: 0.0922 - val_loss: 0.0907\n",
      "Epoch 49/50\n",
      "60000/60000 [==============================] - 5s 86us/step - loss: 0.0918 - val_loss: 0.0903\n",
      "Epoch 50/50\n",
      "60000/60000 [==============================] - 5s 90us/step - loss: 0.0914 - val_loss: 0.0899\n"
     ]
    },
    {
     "data": {
      "text/plain": [
       "<keras.callbacks.History at 0x10496fda0>"
      ]
     },
     "execution_count": 8,
     "metadata": {},
     "output_type": "execute_result"
    }
   ],
   "source": [
    "autoencoder.fit(xtrain,xtrain,epochs=50,batch_size=256,shuffle=True,validation_data=(xtest,xtest))"
   ]
  },
  {
   "cell_type": "code",
   "execution_count": 11,
   "metadata": {},
   "outputs": [],
   "source": [
    "encoded_imgs=encoder.predict(xtest)\n",
    "decoded_imgs=decoder.predict(encoded_imgs)"
   ]
  },
  {
   "cell_type": "code",
   "execution_count": 12,
   "metadata": {},
   "outputs": [
    {
     "data": {
      "image/png": "[encoded data removed]",
      "text/plain": [
       "<Figure size 1440x288 with 20 Axes>"
      ]
     },
     "metadata": {
      "needs_background": "light"
     },
     "output_type": "display_data"
    }
   ],
   "source": [
    "import matplotlib.pyplot as plt\n",
    "\n",
    "n=10\n",
    "plt.figure(figsize=(20,4))\n",
    "for i in range(n):\n",
    "    # display orignial\n",
    "    ax=plt.subplot(2,n,i+1)\n",
    "    plt.imshow(xtest[i].reshape(28,28))\n",
    "    plt.gray()\n",
    "    ax.get_xaxis().set_visible(False)\n",
    "    ax.get_yaxis().set_visible(False)\n",
    "    \n",
    "    #display reconstruction\n",
    "    ax=plt.subplot(2,n,i+1+n)\n",
    "    plt.imshow(decoded_imgs[i].reshape(28,28))\n",
    "    plt.gray()\n",
    "    ax.get_xaxis().set_visible(False)\n",
    "    ax.get_yaxis().set_visible(False)\n",
    "plt.show()"
   ]
  }
 ],
 "metadata": {
  "kernelspec": {
   "display_name": "Python 3",
   "language": "python",
   "name": "python3"
  },
  "language_info": {
   "codemirror_mode": {
    "name": "ipython",
    "version": 3
   },
   "file_extension": ".py",
   "mimetype": "text/x-python",
   "name": "python",
   "nbconvert_exporter": "python",
   "pygments_lexer": "ipython3",
   "version": "3.6.8"
  }
 },
 "nbformat": 4,
 "nbformat_minor": 4
}
